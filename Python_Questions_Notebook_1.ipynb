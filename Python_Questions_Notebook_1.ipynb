{
  "nbformat": 4,
  "nbformat_minor": 0,
  "metadata": {
    "colab": {
      "name": "Python Questions Notebook 1.ipynb",
      "provenance": [],
      "authorship_tag": "ABX9TyOnn05c5XyUXNkqdWVTgg45",
      "include_colab_link": true
    },
    "kernelspec": {
      "name": "python3",
      "display_name": "Python 3"
    },
    "language_info": {
      "name": "python"
    }
  },
  "cells": [
    {
      "cell_type": "markdown",
      "metadata": {
        "id": "view-in-github",
        "colab_type": "text"
      },
      "source": [
        "<a href=\"https://colab.research.google.com/github/ditiansm2015/Python-and-SQL/blob/main/Python_Questions_Notebook_1.ipynb\" target=\"_parent\"><img src=\"https://colab.research.google.com/assets/colab-badge.svg\" alt=\"Open In Colab\"/></a>"
      ]
    },
    {
      "cell_type": "markdown",
      "source": [
        "**Adding two numpy array using loop**"
      ],
      "metadata": {
        "id": "CMkKfK8E_J2e"
      }
    },
    {
      "cell_type": "code",
      "execution_count": null,
      "metadata": {
        "colab": {
          "base_uri": "https://localhost:8080/"
        },
        "id": "PkdhQpYW2CzJ",
        "outputId": "6db10036-acb5-494d-e15b-0f3b317ea0da"
      },
      "outputs": [
        {
          "output_type": "stream",
          "name": "stdout",
          "text": [
            "[[0.85480684 0.52184761 0.42962647 0.78400042]\n",
            " [0.21094468 0.61320302 0.41339101 0.9545601 ]\n",
            " [0.9138918  0.22388466 0.10123629 0.57853493]\n",
            " [0.98533181 0.76292369 0.11752807 0.16672167]\n",
            " [0.01002588 0.31709559 0.93439987 0.34861927]]\n",
            "[[0.49383435 0.32863119 0.13757335 0.69092435]\n",
            " [0.41341327 0.72786916 0.87519847 0.39438488]\n",
            " [0.26433316 0.33112614 0.660533   0.38223913]\n",
            " [0.65922774 0.83489352 0.62977463 0.84018067]\n",
            " [0.24592739 0.60065996 0.88639484 0.72269053]]\n"
          ]
        }
      ],
      "source": [
        "# Creating two random numpy arrays\n",
        "import numpy as np\n",
        "\n",
        "array1 = np.random.rand(5,4)\n",
        "array2 = np.random.rand(5,4)\n",
        "\n",
        "print(array1)\n",
        "print(array2)"
      ]
    },
    {
      "cell_type": "code",
      "source": [
        "# Addition here\n",
        "\n",
        "for i in range(len(array1)):\n",
        "  for j in range(len(array2)):\n",
        "    sum[i-1,j-1] =  array1[i-1,j-1] + array2[i-1,j-1]\n",
        "                             \n",
        "print(sum)\n"
      ],
      "metadata": {
        "colab": {
          "base_uri": "https://localhost:8080/"
        },
        "id": "VAVMyCQp3XaT",
        "outputId": "a21b155e-6df1-41ea-f806-afcf73e334b9"
      },
      "execution_count": null,
      "outputs": [
        {
          "output_type": "stream",
          "name": "stdout",
          "text": [
            "[[1.00201986 1.28814039 0.94271596 0.63773539]\n",
            " [0.41887672 1.77479894 1.05727985 0.47595475]\n",
            " [0.78509109 0.99672039 0.80806979 0.7330168 ]\n",
            " [0.59219261 0.76224853 1.02687073 1.20710085]\n",
            " [0.97921664 0.94407181 1.42712726 1.58400744]]\n"
          ]
        }
      ]
    },
    {
      "cell_type": "code",
      "source": [
        "# Optimized Addition here\n",
        "#Create the sum matrix beforehand\n",
        "\n",
        "sum = np.zeros((5,4))\n",
        "\n",
        "for i in range(len(array1)):\n",
        "  for j in range(len(array2)):\n",
        "    sum[i-1,j-1] =  array1[i-1,j-1] + array2[i-1,j-1]\n",
        "\n",
        "                              \n",
        "print(sum)\n"
      ],
      "metadata": {
        "colab": {
          "base_uri": "https://localhost:8080/"
        },
        "id": "GJWc3Ltr_w1V",
        "outputId": "8ad791b5-1889-4eff-e8c9-97731ba831e3"
      },
      "execution_count": null,
      "outputs": [
        {
          "output_type": "stream",
          "name": "stdout",
          "text": [
            "[[1.00201986 1.28814039 0.94271596 0.63773539]\n",
            " [0.41887672 1.77479894 1.05727985 0.47595475]\n",
            " [0.78509109 0.99672039 0.80806979 0.7330168 ]\n",
            " [0.59219261 0.76224853 1.02687073 1.20710085]\n",
            " [0.97921664 0.94407181 1.42712726 1.58400744]]\n"
          ]
        }
      ]
    },
    {
      "cell_type": "markdown",
      "source": [
        "**Find if a given point is inside or outside a circle**"
      ],
      "metadata": {
        "id": "OFnvtgv6-QKL"
      }
    },
    {
      "cell_type": "code",
      "source": [
        "# Input circle centres and radius\n",
        "cx,cy,r = input(\"Enter centre of Circle (x,y) and radius of circle all seperated by space \").split()\n",
        "cx,cy,r = int(cx),int(cy),int(r)\n",
        "print(cx, \",\", cy, \",\", r)\n",
        "\n",
        "# Input point that need to be validated\n",
        "px, py = input(\"Enter the point that need to be checked if it is inside or outside circle \").split()\n",
        "px, py= int(px),int(py)\n",
        "print(px, \",\", py)\n",
        "\n",
        "# points can be converted into int in the following was as well\n",
        "# px,py = [int(x) for x in [px,py]]"
      ],
      "metadata": {
        "colab": {
          "base_uri": "https://localhost:8080/"
        },
        "id": "cimT-2_tAtEi",
        "outputId": "ead0e695-a743-4d95-d4d3-7ec76695581f"
      },
      "execution_count": null,
      "outputs": [
        {
          "output_type": "stream",
          "name": "stdout",
          "text": [
            "Enter centre of Circle (x,y) and radius of circle all seperated by space 2 3 5\n",
            "2 , 3 , 5\n",
            "Enter the point that need to be checked if it is inside or outside circle 3 6\n",
            "3 , 6\n"
          ]
        }
      ]
    },
    {
      "cell_type": "code",
      "source": [
        "# Checking if the point is inside or outside circle\n",
        "\n",
        "import math\n",
        "distance = math.sqrt((cx- px)**2 + (cy - py)**2)\n",
        "\n",
        "print(\"Distance of circle centre from point is \", distance, \" while radius is \",r)\n",
        "\n",
        "if distance > r:\n",
        "  print(\"Point is outside circle\")\n",
        "\n",
        "elif distance == r:\n",
        "  print(\"Point is on circle\")\n",
        "\n",
        "else :\n",
        "  print(\"Point is inside circle\")\n"
      ],
      "metadata": {
        "colab": {
          "base_uri": "https://localhost:8080/"
        },
        "id": "Az1GzxEZA_Ws",
        "outputId": "2b5406c9-f2ca-40b1-fc9e-616c0606f52b"
      },
      "execution_count": null,
      "outputs": [
        {
          "output_type": "stream",
          "name": "stdout",
          "text": [
            "Distance of circle centre from point is  3.1622776601683795  while radius is  5\n",
            "Point is inside circle\n"
          ]
        }
      ]
    }
  ]
}